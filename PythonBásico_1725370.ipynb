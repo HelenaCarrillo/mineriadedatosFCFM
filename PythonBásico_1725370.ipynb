{
 "cells": [
  {
   "cell_type": "markdown",
   "metadata": {},
   "source": [
    "### Ejercicio 1\n",
    "Realiza una variable con tu matricula y realiza una secuencia de imprimir con tu nombre y tu matricula concatenados."
   ]
  },
  {
   "cell_type": "code",
   "execution_count": 3,
   "metadata": {},
   "outputs": [
    {
     "name": "stdout",
     "output_type": "stream",
     "text": [
      "Nombre:  Helena Patricia Carrillo Soto        Matrícula:  1725370\n"
     ]
    }
   ],
   "source": [
    "mat= \"1725370\"\n",
    "nom= \"Helena Patricia Carrillo Soto\"\n",
    "print(\"Nombre: \", nom, \"       Matrícula: \", mat)"
   ]
  },
  {
   "cell_type": "markdown",
   "metadata": {},
   "source": [
    "### Ejercicio 2\n",
    "Pidiendo el input del usuario pide dos números y crea una pequeña calculadora con los operadores básicos de suma, resta, multiplicación, división, y exponente."
   ]
  },
  {
   "cell_type": "code",
   "execution_count": 15,
   "metadata": {},
   "outputs": [
    {
     "name": "stdout",
     "output_type": "stream",
     "text": [
      "Introduzca un número: 3\n",
      "Introduzca otro número: 4\n",
      "Elija una operación: \n",
      "1. Suma\n",
      "2. Resta\n",
      "3. Multiplicación\n",
      "4. División\n",
      "5. Exponente\n",
      "5\n",
      "\n",
      "3.0  ^  4.0  =  81.0\n"
     ]
    }
   ],
   "source": [
    "n1= float(input(\"Introduzca un número: \"))\n",
    "n2= float(input(\"Introduzca otro número: \"))\n",
    "print(\"Elija una operación: \", \"1. Suma\", \"2. Resta\", \"3. Multiplicación\", \"4. División\", \"5. Exponente\", sep= \"\\n\")\n",
    "op= int(input())\n",
    "print()\n",
    "if op==1:\n",
    "    r=n1+n2\n",
    "    print(n1, \" + \", n2, \" = \", r)\n",
    "elif op==2:\n",
    "    r=n1-n2\n",
    "    print(n1, \" - \", n2, \" = \", r)\n",
    "elif op==3:\n",
    "    r=n1*n2\n",
    "    print(n1, \" x \", n2, \" = \", r)\n",
    "elif op==4:\n",
    "    r=n1/n2\n",
    "    print(n1, \" / \", n2, \" = \", r)\n",
    "elif op==5:\n",
    "    r=n1**n2\n",
    "    print(n1, \" ^ \", n2, \" = \", r)\n",
    "else:\n",
    "    print(\"Comando no reconocido\")"
   ]
  },
  {
   "cell_type": "markdown",
   "metadata": {},
   "source": [
    "### Ejercicio 3\n",
    "Con loop while o for, realiza una lista de 10 numeros multiplos de 3, y después realiza una función de loop que sume todos los números dentro del arreglo."
   ]
  },
  {
   "cell_type": "code",
   "execution_count": 13,
   "metadata": {},
   "outputs": [
    {
     "name": "stdout",
     "output_type": "stream",
     "text": [
      "[3, 6, 9, 12, 15, 18, 21, 24, 27, 30]\n",
      "La suma es 165\n"
     ]
    }
   ],
   "source": [
    "m=list()\n",
    "i=0\n",
    "while i<10:\n",
    "    m.append((i+1)*3)\n",
    "    i=i+1\n",
    "print(m)\n",
    "\n",
    "i=0\n",
    "suma=0\n",
    "while i<10:\n",
    "    suma=suma+m[i]\n",
    "    i=i+1\n",
    "\n",
    "print(\"La suma es\", suma)"
   ]
  },
  {
   "cell_type": "markdown",
   "metadata": {},
   "source": [
    "### Ejercicio 4\n",
    "##### Par o impar\n",
    "Con una función de if else, revisar si un número es par o es impar."
   ]
  },
  {
   "cell_type": "code",
   "execution_count": 40,
   "metadata": {},
   "outputs": [
    {
     "name": "stdout",
     "output_type": "stream",
     "text": [
      "Introduzca un número: 9\n",
      "El numero es impar\n"
     ]
    }
   ],
   "source": [
    "n= int(input(\"Introduzca un número: \"))\n",
    "if n%2==0:\n",
    "    print(\"El numero es par.\", )\n",
    "else:\n",
    "    print(\"El numero es impar\")\n"
   ]
  },
  {
   "cell_type": "markdown",
   "metadata": {},
   "source": [
    "##### Número primo\n",
    "Con una función de if else, revisar si un número es primo o no."
   ]
  },
  {
   "cell_type": "code",
   "execution_count": 41,
   "metadata": {},
   "outputs": [
    {
     "name": "stdout",
     "output_type": "stream",
     "text": [
      "Introduzca un número: 1567\n",
      "El número es primo.\n"
     ]
    }
   ],
   "source": [
    "n= int(input(\"Introduzca un número: \"))\n",
    "primo=0\n",
    "for i in range(1,n+1):\n",
    "    if n%i==0:\n",
    "        primo= primo +1\n",
    "\n",
    "if primo==2:\n",
    "    print(\"El número es primo.\")\n",
    "else:\n",
    "    print(\"El número no es primo.\")"
   ]
  },
  {
   "cell_type": "markdown",
   "metadata": {},
   "source": [
    "### Ejercicio 5\n",
    "Utilizando diferentes clases en python, crea una calculadora con los operadores básicos de suma, resta, multiplicación, división, y exponente."
   ]
  },
  {
   "cell_type": "code",
   "execution_count": 42,
   "metadata": {},
   "outputs": [
    {
     "name": "stdout",
     "output_type": "stream",
     "text": [
      "Introduzca un número: 2\n",
      "Introduzca otro número: 3\n",
      "Elija una operación: \n",
      "1. Suma\n",
      "2. Resta\n",
      "3. Multiplicación\n",
      "4. División\n",
      "5. Exponente\n",
      "1\n",
      "\n",
      "2.0  +  3.0  =  5.0\n"
     ]
    }
   ],
   "source": [
    "def Suma(a,b):\n",
    "    c=a+b\n",
    "    return c\n",
    "def Resta(a,b):\n",
    "    c=a-b\n",
    "    return c\n",
    "def Multiplicación(a,b):\n",
    "    c=a*b\n",
    "    return c\n",
    "def Division(a,b):\n",
    "    c=a/b\n",
    "    return c\n",
    "def Exponente(a,b):\n",
    "    c=a**b\n",
    "    return c\n",
    "\n",
    "n1= float(input(\"Introduzca un número: \"))\n",
    "n2= float(input(\"Introduzca otro número: \"))\n",
    "print(\"Elija una operación: \", \"1. Suma\", \"2. Resta\", \"3. Multiplicación\", \"4. División\", \"5. Exponente\", sep= \"\\n\")\n",
    "op= int(input())\n",
    "print()\n",
    "if op==1:\n",
    "    r= Suma(n1,n2)\n",
    "    print(n1, \" + \", n2, \" = \", r)\n",
    "elif op==2:\n",
    "    r= Resta(n1,n2)\n",
    "    print(n1, \" - \", n2, \" = \", r)\n",
    "elif op==3:\n",
    "    r= Multiplicación(n1,n2)\n",
    "    print(n1, \" x \", n2, \" = \", r)\n",
    "elif op==4:\n",
    "    r= Division(n1,n2)\n",
    "    print(n1, \" / \", n2, \" = \", r)\n",
    "elif op==5:\n",
    "    r= Exponente(n1,n2)\n",
    "    print(n1, \" ^ \", n2, \" = \", r)\n",
    "else:\n",
    "    print(\"Comando no reconocido\")"
   ]
  },
  {
   "cell_type": "markdown",
   "metadata": {},
   "source": [
    "### Ejercicios Tuplas\n",
    "* Crear una variable flotante, integer, boleana y compleja e imprimir el tipo de variable que es."
   ]
  },
  {
   "cell_type": "code",
   "execution_count": 20,
   "metadata": {},
   "outputs": [
    {
     "name": "stdout",
     "output_type": "stream",
     "text": [
      "variable 1= 1 ---> <class 'int'>\n",
      "variable 2= 1.5 ---> <class 'float'>\n",
      "variable 3= True ---> <class 'bool'>\n",
      "variable 4= (1+3j) ---> <class 'complex'>\n"
     ]
    }
   ],
   "source": [
    "n1=1\n",
    "print(\"variable 1=\",n1, \"--->\", type(n1))\n",
    "n2= 1.5\n",
    "print(\"variable 2=\",n2, \"--->\", type(n2))\n",
    "n3= True\n",
    "print(\"variable 3=\",n3, \"--->\", type(n3))\n",
    "n4=1+3j\n",
    "print(\"variable 4=\",n4, \"--->\", type(n4))"
   ]
  },
  {
   "cell_type": "markdown",
   "metadata": {},
   "source": [
    "* Crear una tupla con valores enteros imprimir el primer y ultimo valor."
   ]
  },
  {
   "cell_type": "code",
   "execution_count": 2,
   "metadata": {},
   "outputs": [
    {
     "name": "stdout",
     "output_type": "stream",
     "text": [
      "El primer valor es 1\n",
      "El último valor es 10\n"
     ]
    }
   ],
   "source": [
    "tupla1=(1,2,3,4,5,6,7,8,9,10)\n",
    "print(\"El primer valor es\", tupla1[0])\n",
    "print(\"El último valor es\", tupla1[-1])"
   ]
  },
  {
   "cell_type": "markdown",
   "metadata": {},
   "source": [
    "* Añadir 3 valores de string a la tupla."
   ]
  },
  {
   "cell_type": "code",
   "execution_count": 3,
   "metadata": {},
   "outputs": [
    {
     "data": {
      "text/plain": [
       "(1, 2, 3, 4, 5, 6, 7, 8, 9, 10, 'uno', 'dos', 'tres')"
      ]
     },
     "execution_count": 3,
     "metadata": {},
     "output_type": "execute_result"
    }
   ],
   "source": [
    "listaux=list(tupla1)\n",
    "listaux.append(\"uno\")\n",
    "listaux.append(\"dos\")\n",
    "listaux.append(\"tres\")\n",
    "\n",
    "tupla2=tuple(listaux)\n",
    "tupla2"
   ]
  },
  {
   "cell_type": "markdown",
   "metadata": {},
   "source": [
    "* Verificar si una variable existe dentro de la tupla."
   ]
  },
  {
   "cell_type": "code",
   "execution_count": 69,
   "metadata": {},
   "outputs": [
    {
     "name": "stdout",
     "output_type": "stream",
     "text": [
      "Inserte un valor: hola\n",
      "El valor no se encuentra en la tupla\n"
     ]
    }
   ],
   "source": [
    "s=str(input(\"Inserte un valor: \"))\n",
    "type(s)\n",
    "encontrado= False\n",
    "for i in range(0,len(tupla2)-1):\n",
    "    if str(tupla2[i])==s:\n",
    "        encontrado= True\n",
    "if encontrado==True:\n",
    "    print(\"El valor se encuentra en la tupla\")\n",
    "else:\n",
    "    print(\"El valor no se encuentra en la tupla\")"
   ]
  },
  {
   "cell_type": "markdown",
   "metadata": {},
   "source": [
    "### Ejercicios Listas\n",
    "* Crear una lista con 40 elementos aleatorios enteros.\n",
    "* Con una funcion (def) crear dos listas nuevas a partir de la lista creada por numeros aleatorios, en la cual en una esten los elementos pares, y en la otra los elementos impares.\n",
    "* Crear dos variables con la longitud de ambas listas nuevas e imprimir las variables.\n",
    "* Ordenar los elementos de la lista par de mayor a menor, y los de la lista impar de menor a mayor."
   ]
  },
  {
   "cell_type": "code",
   "execution_count": 98,
   "metadata": {},
   "outputs": [
    {
     "name": "stdout",
     "output_type": "stream",
     "text": [
      "La lista es:\n",
      "[597, 756, 702, 412, 741, 856, 15, 925, 386, 520, 911, 466, 381, 604, 873, 779, 672, 25, 317, 585, 186, 226, 636, 154, 850, 440, 900, 675, 855, 184, 207, 234, 587, 314, 525, 759, 222, 544, 306]\n",
      "\n",
      "\n",
      "La lista tiene 21 elementos pares y 17 elementos impares.\n",
      "Pares:  [756, 702, 412, 856, 386, 520, 466, 604, 672, 186, 226, 636, 154, 850, 440, 900, 184, 234, 314, 222, 544]\n",
      "Impares:  [597, 741, 15, 925, 911, 381, 873, 779, 25, 317, 585, 675, 855, 207, 587, 525, 759]\n",
      "\n",
      "\n",
      "Los elementos pares ordenados de mayor a menor:\n",
      "[900, 856, 850, 756, 702, 672, 636, 604, 544, 520, 466, 440, 412, 386, 314, 234, 226, 222, 186, 184, 154]\n",
      "\n",
      "Los elementos impares ordenados de menor a mayor:\n",
      "[15, 25, 207, 317, 381, 525, 585, 587, 597, 675, 741, 759, 779, 855, 873, 911, 925]\n"
     ]
    }
   ],
   "source": [
    "import random as r\n",
    "lista1=[]\n",
    "for i in range(0,39):\n",
    "    lista1.append(r.randint(1,1000))\n",
    "print(\"La lista es:\")\n",
    "print(lista1)\n",
    "print()\n",
    "print()\n",
    "\n",
    "def Par(listaa):\n",
    "    listapar=[]\n",
    "    for i in range(0,len(listaa)-1):\n",
    "        if listaa[i]%2==0:\n",
    "            listapar.append(listaa[i])\n",
    "    return listapar\n",
    "\n",
    "def Impar(listaa):\n",
    "    listaimpar=[]\n",
    "    for i in range(0,len(listaa)-1):\n",
    "        if listaa[i]%2!=0:\n",
    "            listaimpar.append(listaa[i])\n",
    "    return listaimpar\n",
    "\n",
    "lista1par= Par(lista1)\n",
    "lista1impar= Impar(lista1)\n",
    "tl1par= len(lista1par)\n",
    "tl1impar= len(lista1impar)\n",
    "\n",
    "print(\"La lista tiene\",tl1par, \"elementos pares y\", tl1impar, \"elementos impares.\")\n",
    "print(\"Pares: \", lista1par)\n",
    "print(\"Impares: \", lista1impar)\n",
    "print()\n",
    "\n",
    "print()\n",
    "lista1par.sort()\n",
    "lista1par.reverse()\n",
    "lista1impar.sort()\n",
    "print(\"Los elementos pares ordenados de mayor a menor:\")\n",
    "print(lista1par)\n",
    "print()\n",
    "print(\"Los elementos impares ordenados de menor a mayor:\")\n",
    "print(lista1impar)"
   ]
  },
  {
   "cell_type": "markdown",
   "metadata": {},
   "source": [
    "* Utilizar al menos cuatro de las funciones de listas en python en la lista original de 40 elementos."
   ]
  },
  {
   "cell_type": "code",
   "execution_count": 99,
   "metadata": {},
   "outputs": [
    {
     "name": "stdout",
     "output_type": "stream",
     "text": [
      "La lista original es:\n",
      "[597, 756, 702, 412, 741, 856, 15, 925, 386, 520, 911, 466, 381, 604, 873, 779, 672, 25, 317, 585, 186, 226, 636, 154, 850, 440, 900, 675, 855, 184, 207, 234, 587, 314, 525, 759, 222, 544, 306]\n",
      "\n",
      "Removiendo el ultimo elemento:\n",
      "[597, 756, 702, 412, 741, 856, 15, 925, 386, 520, 911, 466, 381, 604, 873, 779, 672, 25, 317, 585, 186, 226, 636, 154, 850, 440, 900, 675, 855, 184, 207, 234, 587, 314, 525, 759, 222, 544]\n",
      "\n",
      "Removiendo el segundo elemento( 756 ) de la lista:\n",
      "[597, 702, 412, 741, 856, 15, 925, 386, 520, 911, 466, 381, 604, 873, 779, 672, 25, 317, 585, 186, 226, 636, 154, 850, 440, 900, 675, 855, 184, 207, 234, 587, 314, 525, 759, 222, 544]\n",
      "\n",
      "Inserte un número entero: 7\n",
      "Insertando 7 al final de la lista:\n",
      "[597, 702, 412, 741, 856, 15, 925, 386, 520, 911, 466, 381, 604, 873, 779, 672, 25, 317, 585, 186, 226, 636, 154, 850, 440, 900, 675, 855, 184, 207, 234, 587, 314, 525, 759, 222, 544, 7]\n",
      "\n",
      "Insertando 7 en la segunda posición:\n",
      "[597, 7, 702, 412, 741, 856, 15, 925, 386, 520, 911, 466, 381, 604, 873, 779, 672, 25, 317, 585, 186, 226, 636, 154, 850, 440, 900, 675, 855, 184, 207, 234, 587, 314, 525, 759, 222, 544, 7]\n",
      "\n"
     ]
    }
   ],
   "source": [
    "print(\"La lista original es:\")\n",
    "print(lista1)\n",
    "print()\n",
    "\n",
    "print(\"Removiendo el ultimo elemento:\")\n",
    "lista1.pop()\n",
    "print(lista1)\n",
    "print()\n",
    "\n",
    "print(\"Removiendo el segundo elemento(\", lista1[1], \") de la lista:\")\n",
    "lista1.remove(lista1[1])\n",
    "print(lista1)\n",
    "print()\n",
    "\n",
    "l=int(input(\"Inserte un número entero: \"))\n",
    "print(\"Insertando\", l, \"al final de la lista:\")\n",
    "lista1.append(l)\n",
    "print(lista1)\n",
    "print()\n",
    "\n",
    "print(\"Insertando\", l, \"en la segunda posición:\")\n",
    "lista1.insert(1,l)\n",
    "print(lista1)\n",
    "print()\n"
   ]
  },
  {
   "cell_type": "markdown",
   "metadata": {},
   "source": [
    "### Ejercicios Diccionarios\n",
    "* Crear un diccionario de 6 personas que conozcas con su primer nombre y su edad.\n",
    "* Crear una lista con los valores de la edad y reacomodar la lista de menor a mayor valor.\n",
    "* Usando el diccionario y un loop, imprimir solo los nombres.\n",
    "* Añadir dos personas nuevas a tu diccionario, incluyendo edad."
   ]
  },
  {
   "cell_type": "code",
   "execution_count": 113,
   "metadata": {},
   "outputs": [
    {
     "name": "stdout",
     "output_type": "stream",
     "text": [
      "La edades son:  [19, 18, 26, 18, 28, 23]\n",
      "Las edades ordenadas de menor a mayor:  [18, 18, 19, 23, 26, 28]\n",
      "\n",
      "Los nombres son:\n",
      "Jorge\n",
      "Kai\n",
      "Nam\n",
      "Terry\n",
      "Jin\n",
      "Jun\n",
      "\n",
      "\n",
      "Insertando valores:\n",
      "Jorge\n",
      "Kai\n",
      "Nam\n",
      "Terry\n",
      "Jin\n",
      "Jun\n",
      "Tae\n",
      "Sean\n"
     ]
    }
   ],
   "source": [
    "dicc1={\"Jorge\":19, \"Kai\":18, \"Nam\":26, \"Terry\":18, \"Jin\":28, \"Jun\":23}\n",
    "edades= list(dicc1.values())\n",
    "print(\"La edades son: \", edades)\n",
    "edades.sort()\n",
    "print(\"Las edades ordenadas de menor a mayor: \", edades)\n",
    "\n",
    "print()\n",
    "print(\"Los nombres son:\")\n",
    "for i in dicc1:\n",
    "    print(i)\n",
    "print()\n",
    "print()\n",
    "print(\"Insertando valores:\")\n",
    "dicc1[\"Tae\"]=25\n",
    "dicc1[\"Sean\"]=20\n",
    "for i in dicc1:\n",
    "    print(i)\n"
   ]
  },
  {
   "cell_type": "markdown",
   "metadata": {},
   "source": [
    "### Ejercicios Sets\n",
    "* Crea un set con 100 numeros aleatorios enteros del 1 al 25.\n",
    "* Comprueba la longitud de tu set.\n",
    "* Crea una lista de 5 numeros aleatorios del 1 al 10 y comprueba si cada valor aparece en el set inicial."
   ]
  },
  {
   "cell_type": "code",
   "execution_count": 133,
   "metadata": {},
   "outputs": [
    {
     "name": "stdout",
     "output_type": "stream",
     "text": [
      "El tamaño del set es de:  24\n",
      "Set:  {1, 2, 3, 4, 6, 7, 8, 9, 10, 11, 12, 13, 14, 15, 16, 17, 18, 19, 20, 21, 22, 23, 24, 25}\n",
      "\n",
      "Lista aleatoria:  [5, 2, 6, 2, 6]\n",
      "\n",
      "No todos los elementos de la lista se encuentran en el set. Solo estos elementos están en el set:\n",
      "{2, 6}\n"
     ]
    }
   ],
   "source": [
    "import random as r\n",
    "set1= set()\n",
    "for i in range(1,100):\n",
    "    set1.add(r.randint(1,25))\n",
    "\n",
    "print(\"El tamaño del set es de: \", len(set1))\n",
    "print(\"Set: \",set1)\n",
    "\n",
    "listap=[]\n",
    "for i in range(0,5):\n",
    "    listap.append(r.randint(1,10))\n",
    "\n",
    "contador=0\n",
    "elementosenset=[]\n",
    "for i in range(0,5):\n",
    "    if listap[i] in set1:\n",
    "        contador=contador+1\n",
    "        elementosenset.append(listap[i])\n",
    "print()\n",
    "print(\"Lista aleatoria: \", listap)\n",
    "print()\n",
    "if contador==5:\n",
    "    print(\"Todos los elementos de la lista se encuentran en el set\")\n",
    "else:\n",
    "    print(\"No todos los elementos de la lista se encuentran en el set. Solo estos elementos están en el set:\")\n",
    "    print(set(elementosenset))"
   ]
  },
  {
   "cell_type": "code",
   "execution_count": null,
   "metadata": {},
   "outputs": [],
   "source": []
  }
 ],
 "metadata": {
  "kernelspec": {
   "display_name": "Python 3",
   "language": "python",
   "name": "python3"
  },
  "language_info": {
   "codemirror_mode": {
    "name": "ipython",
    "version": 3
   },
   "file_extension": ".py",
   "mimetype": "text/x-python",
   "name": "python",
   "nbconvert_exporter": "python",
   "pygments_lexer": "ipython3",
   "version": "3.8.3"
  }
 },
 "nbformat": 4,
 "nbformat_minor": 4
}
